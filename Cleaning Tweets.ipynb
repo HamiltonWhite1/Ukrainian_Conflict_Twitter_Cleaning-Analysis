{
 "cells": [
  {
   "cell_type": "code",
   "execution_count": 1,
   "id": "88349f65",
   "metadata": {},
   "outputs": [],
   "source": [
    "import pandas as pd\n",
    "import numpy as np"
   ]
  },
  {
   "cell_type": "code",
   "execution_count": 2,
   "id": "d0411928",
   "metadata": {},
   "outputs": [
    {
     "name": "stderr",
     "output_type": "stream",
     "text": [
      "/opt/anaconda3/lib/python3.9/site-packages/IPython/core/interactiveshell.py:3444: DtypeWarning: Columns (15) have mixed types.Specify dtype option on import or set low_memory=False.\n",
      "  exec(code_obj, self.user_global_ns, self.user_ns)\n"
     ]
    }
   ],
   "source": [
    "df_f_27 = pd.read_csv('CSVs/FEB27.csv')\n",
    "df_f_28 = pd.read_csv('CSVs/FEB28.csv')\n",
    "df_f_28_p2 = pd.read_csv('CSVs/FEB28_2.csv')\n",
    "df_m_01 = pd.read_csv('CSVs/MAR01.csv')\n",
    "df_m_02 = pd.read_csv('CSVs/MAR02.csv')"
   ]
  },
  {
   "cell_type": "code",
   "execution_count": 3,
   "id": "07692074",
   "metadata": {},
   "outputs": [],
   "source": [
    "# Right Wing Cleaning \n",
    "has_right_wing = df_f_27.loc[(df_f_27['language'] == 'en') & (df_f_27['acctdesc'].str.contains('Patriot|Conservative|Libertarian')) & (df_f_27['text'].str.contains('#Russia'))].drop_duplicates(subset='text')\n",
    "has_right_wing_d2_p1 = df_f_28.loc[(df_f_28['language'] == 'en') & (df_f_28['acctdesc'].str.contains('Patriot|Conservative|Libertarian')) & (df_f_28['text'].str.contains('#Russia'))].drop_duplicates(subset='text')\n",
    "has_right_wing_d2_p2 = df_f_28_p2.loc[(df_f_28_p2['language'] == 'en') & (df_f_28_p2['acctdesc'].str.contains('Patriot|Conservative|Libertarian')) & (df_f_28_p2['text'].str.contains('#Russia'))].drop_duplicates(subset='text')\n",
    "has_right_wing_d3 = df_m_01.loc[(df_m_01['language'] == 'en') & (df_m_01['acctdesc'].str.contains('Patriot|Conservative|Libertarian')) & (df_m_01['text'].str.contains('#Russia'))].drop_duplicates(subset='text')\n",
    "has_right_wing_d4 = df_m_02.loc[(df_m_02['language'] == 'en') & (df_m_02['acctdesc'].str.contains('Patriot|Conservative|Libertarian')) & (df_m_02['text'].str.contains('#Russia'))].drop_duplicates(subset='text')\n",
    "\n",
    "next_right_wing_clean = pd.concat([has_right_wing, has_right_wing_d2_p1, has_right_wing_d2_p2, has_right_wing_d3, has_right_wing_d4])\n",
    "next_right_wing_clean.drop(['userid', 'Unnamed: 0', 'following', 'totaltweets', 'tweetid', 'coordinates', 'favorite_count', 'extractedts'], axis=1, inplace=True)\n",
    "next_right_wing_clean.drop(['hashtags'], axis=1, inplace=True)\n",
    "next_right_wing_clean.dropna(inplace=True)\n",
    "\n",
    "next_right_wing_clean.to_csv('is_right_wing.csv', index=False)\n"
   ]
  },
  {
   "cell_type": "code",
   "execution_count": 4,
   "id": "73c76db0",
   "metadata": {},
   "outputs": [],
   "source": [
    "# Left Wing Cleaning\n",
    "has_left_wing = df_f_27.loc[(df_f_27['language'] == 'en') & (df_f_27['acctdesc'].str.contains('Liberal|Socialist|Communist')) & (df_f_27['text'].str.contains('#Russia'))].drop_duplicates(subset='text')\n",
    "has_left_wing_d2_p1 = df_f_28.loc[(df_f_28['language'] == 'en') & (df_f_28['acctdesc'].str.contains('Liberal|Socialist|Communist')) & (df_f_28['text'].str.contains('#Russia'))].drop_duplicates(subset='text')\n",
    "has_left_wing_d2_p2 = df_f_28_p2.loc[(df_f_28_p2['language'] == 'en') & (df_f_28_p2['acctdesc'].str.contains('Liberal|Socialist|Communist')) & (df_f_28_p2['text'].str.contains('#Russia'))].drop_duplicates(subset='text')\n",
    "has_left_wing_d3 = df_m_01.loc[(df_m_01['language'] == 'en') & (df_m_01['acctdesc'].str.contains('Liberal|Socialist|Communist')) & (df_m_01['text'].str.contains('#Russia'))].drop_duplicates(subset='text')\n",
    "has_left_wing_d4 = df_m_02.loc[(df_m_02['language'] == 'en') & (df_m_02['acctdesc'].str.contains('Liberal|Socialist|Communist')) & (df_m_02['text'].str.contains('#Russia'))].drop_duplicates(subset='text')\n",
    "\n",
    "next_left_wing_clean = pd.concat([has_left_wing, has_left_wing_d2_p1, has_left_wing_d2_p2, has_left_wing_d3, has_left_wing_d4])\n",
    "next_left_wing_clean.drop(['userid', 'Unnamed: 0', 'hashtags', 'following', 'totaltweets', 'tweetid', 'coordinates', 'favorite_count', 'extractedts'], axis=1, inplace=True)\n",
    "next_left_wing_clean.dropna(inplace=True)\n",
    "\n",
    "next_left_wing_clean.to_csv('is_left_wing.csv', index=False)"
   ]
  },
  {
   "cell_type": "code",
   "execution_count": 5,
   "id": "4c588b52",
   "metadata": {},
   "outputs": [],
   "source": [
    "day_1_total = df_f_27.loc[df_f_27['language'] == 'en']\n",
    "day_2_total = df_f_28.loc[df_f_28['language'] == 'en']\n",
    "day_2_p2_total = df_f_28_p2.loc[df_f_28_p2['language'] == 'en']\n",
    "day_3_total = df_m_01.loc[df_m_01['language'] == 'en']\n",
    "day_4_total = df_m_02.loc[df_m_02['language'] == 'en']\n"
   ]
  },
  {
   "cell_type": "code",
   "execution_count": 6,
   "id": "07da3471",
   "metadata": {},
   "outputs": [],
   "source": [
    "all_english_tweets = pd.concat([day_1_total, day_2_total, day_2_p2_total, day_3_total, day_4_total])"
   ]
  },
  {
   "cell_type": "code",
   "execution_count": 7,
   "id": "6ce0a4c1",
   "metadata": {},
   "outputs": [],
   "source": [
    "all_english_tweets.fillna(value=\"No Information Provided\", inplace=True)"
   ]
  },
  {
   "cell_type": "code",
   "execution_count": 8,
   "id": "2aef9155",
   "metadata": {},
   "outputs": [],
   "source": [
    "all_english_tweets.drop_duplicates(subset='text', inplace=True)"
   ]
  },
  {
   "cell_type": "code",
   "execution_count": 9,
   "id": "03b2fc4d",
   "metadata": {},
   "outputs": [],
   "source": [
    "all_english_tweets.drop(['Unnamed: 0', 'usercreatedts', 'extractedts', 'following'], axis=1, inplace=True)"
   ]
  },
  {
   "cell_type": "code",
   "execution_count": 10,
   "id": "06952fc5",
   "metadata": {},
   "outputs": [],
   "source": [
    "all_english_tweets.to_csv('All_English_Tweets.csv', index=False)"
   ]
  },
  {
   "cell_type": "code",
   "execution_count": 22,
   "id": "9978c3f1",
   "metadata": {},
   "outputs": [],
   "source": [
    "all_df = pd.concat([df_f_27, df_f_28, df_f_28_p2, df_m_01, df_m_02])\n",
    "all_df.reset_index(inplace=True)\n",
    "all_df.to_csv('all_data.csv')"
   ]
  },
  {
   "cell_type": "code",
   "execution_count": null,
   "id": "4ba584d5",
   "metadata": {},
   "outputs": [],
   "source": []
  }
 ],
 "metadata": {
  "kernelspec": {
   "display_name": "Python 3 (ipykernel)",
   "language": "python",
   "name": "python3"
  },
  "language_info": {
   "codemirror_mode": {
    "name": "ipython",
    "version": 3
   },
   "file_extension": ".py",
   "mimetype": "text/x-python",
   "name": "python",
   "nbconvert_exporter": "python",
   "pygments_lexer": "ipython3",
   "version": "3.9.7"
  }
 },
 "nbformat": 4,
 "nbformat_minor": 5
}
