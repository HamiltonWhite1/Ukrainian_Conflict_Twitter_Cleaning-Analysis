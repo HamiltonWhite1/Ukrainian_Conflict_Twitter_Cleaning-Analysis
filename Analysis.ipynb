{
 "cells": [
  {
   "cell_type": "code",
   "execution_count": 70,
   "id": "a9df4e8d",
   "metadata": {},
   "outputs": [],
   "source": [
    "import pandas as pd\n",
    "import numpy as np\n",
    "import matplotlib as mp\n",
    "import matplotlib.pyplot as plt\n",
    "from matplotlib.pyplot import figure"
   ]
  },
  {
   "cell_type": "code",
   "execution_count": 2,
   "id": "13ad4049",
   "metadata": {},
   "outputs": [
    {
     "name": "stderr",
     "output_type": "stream",
     "text": [
      "/opt/anaconda3/lib/python3.9/site-packages/IPython/core/interactiveshell.py:3444: DtypeWarning: Columns (0,1,2,3,5,7,8,9,10,11,12) have mixed types.Specify dtype option on import or set low_memory=False.\n",
      "  exec(code_obj, self.user_global_ns, self.user_ns)\n"
     ]
    }
   ],
   "source": [
    "left_wing = pd.read_csv('Data_Cleaning/Left_Wing_Data/is_left_wing.csv')\n",
    "right_wing = pd.read_csv('Data_Cleaning/Right_Wing_Data/is_right_wing.csv')\n",
    "all_english = pd.read_csv('Data_Cleaning/All_English/All_English_Tweets.csv')\n",
    "all_english.drop_duplicates(subset='text', inplace=True)"
   ]
  },
  {
   "cell_type": "code",
   "execution_count": 3,
   "id": "3d2f8c0d",
   "metadata": {},
   "outputs": [],
   "source": [
    "left_analysis = {\n",
    "    \"Hostile_Language\": 0,\n",
    "    \"Defensive_Language\": 0,\n",
    "    \"Overlapping_Language\": 0,\n",
    "    \"Unrelated_Discussion\": 0,\n",
    "}"
   ]
  },
  {
   "cell_type": "code",
   "execution_count": 4,
   "id": "6f401419",
   "metadata": {},
   "outputs": [],
   "source": [
    "right_analysis = {\n",
    "    \"Hostile_Language\": 0,\n",
    "    \"Defensive_Language\": 0,\n",
    "    \"Overlapping_Language\": 0,\n",
    "    \"Unrelated_Discussion\": 0,\n",
    "}"
   ]
  },
  {
   "cell_type": "code",
   "execution_count": 5,
   "id": "dad837c4",
   "metadata": {},
   "outputs": [],
   "source": [
    "all_english_analysis = {\n",
    "    \"Hostile_Language\": 0,\n",
    "    \"Defensive_Language\": 0,\n",
    "    \"Overlapping_Language\": 0,\n",
    "    \"Unrelated_Discussion\": 0,\n",
    "}"
   ]
  },
  {
   "cell_type": "code",
   "execution_count": 6,
   "id": "80157cda",
   "metadata": {},
   "outputs": [],
   "source": [
    "hostile_engagement = [\"istandwithputin\", \"guns\", \"western propaganda\", \"propaganda\", \"united states\",\n",
    "    \"lethal\", \"liberals\", \"conservatives\", \"socialists\", \"communists\", \"democrats\", \"republicans\", \"fascists\", \n",
    "    \"nuclear\", \"punish\", \"captured\", \"shelling\"]"
   ]
  },
  {
   "cell_type": "code",
   "execution_count": 7,
   "id": "eb9b5392",
   "metadata": {},
   "outputs": [],
   "source": [
    "defensive_engagement = [\"reinforce\", \"guard\", \"support\", \"suspend\", \"#ukraine\",\n",
    "    \"propaganda\", \"calls\", \"call\", \"surrender\", \"abstain\", \"solider calls mom\", \"putinswar\" ] #Add more words"
   ]
  },
  {
   "cell_type": "code",
   "execution_count": 8,
   "id": "4fa6f83e",
   "metadata": {},
   "outputs": [],
   "source": [
    "overlapping_engagement = [\"seize\", \"ruble\", \"sanctions\", \"#nowar\", \"ukraine\", \"russia\", \n",
    "    \"breaking news\", \"breaking\", \"fox news\"] #Add more words"
   ]
  },
  {
   "cell_type": "code",
   "execution_count": 9,
   "id": "e19eab22",
   "metadata": {},
   "outputs": [],
   "source": [
    "unrelated_engagement = [\"syria\", \"muslim\", \"fake news\", \"afghanistan\", \"palestinian\"] #Add more words"
   ]
  },
  {
   "cell_type": "code",
   "execution_count": 10,
   "id": "b6a70da1",
   "metadata": {},
   "outputs": [],
   "source": [
    "for row in left_wing['text']:\n",
    "    for word in hostile_engagement:\n",
    "        if word in row:\n",
    "            left_analysis['Hostile_Language'] += 1\n",
    "\n",
    "for row in left_wing['text']:\n",
    "    for word in defensive_engagement:\n",
    "        if word in row:\n",
    "            left_analysis['Defensive_Language'] += 1\n",
    "\n",
    "for row in left_wing['text']:\n",
    "    for word in overlapping_engagement:\n",
    "        if word in row:\n",
    "            left_analysis['Overlapping_Language'] += 1\n",
    "\n",
    "for row in left_wing['text']:\n",
    "    for word in unrelated_engagement:\n",
    "        if word in row:\n",
    "            left_analysis['Unrelated_Discussion'] += 1"
   ]
  },
  {
   "cell_type": "code",
   "execution_count": 11,
   "id": "b1ed45b8",
   "metadata": {},
   "outputs": [
    {
     "data": {
      "text/plain": [
       "{'Hostile_Language': 126,\n",
       " 'Defensive_Language': 246,\n",
       " 'Overlapping_Language': 192,\n",
       " 'Unrelated_Discussion': 2}"
      ]
     },
     "execution_count": 11,
     "metadata": {},
     "output_type": "execute_result"
    }
   ],
   "source": [
    "left_analysis"
   ]
  },
  {
   "cell_type": "code",
   "execution_count": 12,
   "id": "a7e1c54f",
   "metadata": {},
   "outputs": [],
   "source": [
    "for row in right_wing['text']:\n",
    "    for word in hostile_engagement:\n",
    "        if word in row:\n",
    "            right_analysis['Hostile_Language'] += 1\n",
    "            \n",
    "for row in right_wing['text']:\n",
    "    for word in defensive_engagement:\n",
    "        if word in row:\n",
    "            right_analysis['Defensive_Language'] += 1\n",
    "            \n",
    "for row in right_wing['text']:\n",
    "    for word in overlapping_engagement:\n",
    "        if word in row:\n",
    "            right_analysis['Overlapping_Language'] += 1\n",
    "    \n",
    "for row in right_wing['text']:\n",
    "    for word in unrelated_engagement:\n",
    "        if word in row:\n",
    "            left_analysis['Unrelated_Discussion'] += 1"
   ]
  },
  {
   "cell_type": "code",
   "execution_count": 13,
   "id": "157ac46b",
   "metadata": {},
   "outputs": [],
   "source": [
    "# Used to get rid of the 1 float in the DF\n",
    "all_english = all_english[all_english['text'].apply(lambda x: isinstance(x, str))]\n",
    "\n",
    "for row in all_english['text']:\n",
    "    for word in hostile_engagement:\n",
    "        if word in row:\n",
    "            all_english_analysis['Hostile_Language'] += 1\n",
    "            \n",
    "for row in all_english['text']:\n",
    "    for word in defensive_engagement:\n",
    "        if word in row:\n",
    "            all_english_analysis['Defensive_Language'] += 1\n",
    "\n",
    "for row in all_english['text']:\n",
    "    for word in overlapping_engagement:\n",
    "        if word in row:\n",
    "            all_english_analysis['Overlapping_Language'] += 1\n",
    "\n",
    "for row in all_english['text']:\n",
    "    for word in unrelated_engagement:\n",
    "        if word in row:\n",
    "            all_english_analysis['Unrelated_Discussion'] += 1"
   ]
  },
  {
   "cell_type": "code",
   "execution_count": 14,
   "id": "eeb20d3f",
   "metadata": {},
   "outputs": [
    {
     "data": {
      "text/html": [
       "<div>\n",
       "<style scoped>\n",
       "    .dataframe tbody tr th:only-of-type {\n",
       "        vertical-align: middle;\n",
       "    }\n",
       "\n",
       "    .dataframe tbody tr th {\n",
       "        vertical-align: top;\n",
       "    }\n",
       "\n",
       "    .dataframe thead th {\n",
       "        text-align: right;\n",
       "    }\n",
       "</style>\n",
       "<table border=\"1\" class=\"dataframe\">\n",
       "  <thead>\n",
       "    <tr style=\"text-align: right;\">\n",
       "      <th></th>\n",
       "      <th>Counts</th>\n",
       "    </tr>\n",
       "  </thead>\n",
       "  <tbody>\n",
       "    <tr>\n",
       "      <th>Hostile_Language</th>\n",
       "      <td>169</td>\n",
       "    </tr>\n",
       "    <tr>\n",
       "      <th>Defensive_Language</th>\n",
       "      <td>249</td>\n",
       "    </tr>\n",
       "    <tr>\n",
       "      <th>Overlapping_Language</th>\n",
       "      <td>212</td>\n",
       "    </tr>\n",
       "    <tr>\n",
       "      <th>Unrelated_Discussion</th>\n",
       "      <td>0</td>\n",
       "    </tr>\n",
       "  </tbody>\n",
       "</table>\n",
       "</div>"
      ],
      "text/plain": [
       "                      Counts\n",
       "Hostile_Language         169\n",
       "Defensive_Language       249\n",
       "Overlapping_Language     212\n",
       "Unrelated_Discussion       0"
      ]
     },
     "execution_count": 14,
     "metadata": {},
     "output_type": "execute_result"
    }
   ],
   "source": [
    "right_table = pd.DataFrame.from_dict(right_analysis, orient='index')\n",
    "right_table.rename(columns={0: 'Counts'}, inplace=True)\n",
    "right_table"
   ]
  },
  {
   "cell_type": "code",
   "execution_count": 15,
   "id": "380cdc85",
   "metadata": {},
   "outputs": [
    {
     "data": {
      "text/html": [
       "<div>\n",
       "<style scoped>\n",
       "    .dataframe tbody tr th:only-of-type {\n",
       "        vertical-align: middle;\n",
       "    }\n",
       "\n",
       "    .dataframe tbody tr th {\n",
       "        vertical-align: top;\n",
       "    }\n",
       "\n",
       "    .dataframe thead th {\n",
       "        text-align: right;\n",
       "    }\n",
       "</style>\n",
       "<table border=\"1\" class=\"dataframe\">\n",
       "  <thead>\n",
       "    <tr style=\"text-align: right;\">\n",
       "      <th></th>\n",
       "      <th>Counts</th>\n",
       "    </tr>\n",
       "  </thead>\n",
       "  <tbody>\n",
       "    <tr>\n",
       "      <th>Hostile_Language</th>\n",
       "      <td>126</td>\n",
       "    </tr>\n",
       "    <tr>\n",
       "      <th>Defensive_Language</th>\n",
       "      <td>246</td>\n",
       "    </tr>\n",
       "    <tr>\n",
       "      <th>Overlapping_Language</th>\n",
       "      <td>192</td>\n",
       "    </tr>\n",
       "    <tr>\n",
       "      <th>Unrelated_Discussion</th>\n",
       "      <td>5</td>\n",
       "    </tr>\n",
       "  </tbody>\n",
       "</table>\n",
       "</div>"
      ],
      "text/plain": [
       "                      Counts\n",
       "Hostile_Language         126\n",
       "Defensive_Language       246\n",
       "Overlapping_Language     192\n",
       "Unrelated_Discussion       5"
      ]
     },
     "execution_count": 15,
     "metadata": {},
     "output_type": "execute_result"
    }
   ],
   "source": [
    "left_table = pd.DataFrame.from_dict(left_analysis, orient='index')\n",
    "left_table.rename(columns={0: 'Counts'}, inplace=True)\n",
    "left_table"
   ]
  },
  {
   "cell_type": "code",
   "execution_count": 16,
   "id": "87415380",
   "metadata": {},
   "outputs": [
    {
     "data": {
      "text/plain": [
       "{'Hostile_Language': 15664,\n",
       " 'Defensive_Language': 47475,\n",
       " 'Overlapping_Language': 52296,\n",
       " 'Unrelated_Discussion': 719}"
      ]
     },
     "execution_count": 16,
     "metadata": {},
     "output_type": "execute_result"
    }
   ],
   "source": [
    "all_english_analysis"
   ]
  },
  {
   "cell_type": "code",
   "execution_count": 17,
   "id": "63c0d7b4",
   "metadata": {},
   "outputs": [
    {
     "name": "stderr",
     "output_type": "stream",
     "text": [
      "/opt/anaconda3/lib/python3.9/site-packages/pandas/core/frame.py:4906: SettingWithCopyWarning: \n",
      "A value is trying to be set on a copy of a slice from a DataFrame\n",
      "\n",
      "See the caveats in the documentation: https://pandas.pydata.org/pandas-docs/stable/user_guide/indexing.html#returning-a-view-versus-a-copy\n",
      "  return super().drop(\n"
     ]
    },
    {
     "data": {
      "text/html": [
       "<div>\n",
       "<style scoped>\n",
       "    .dataframe tbody tr th:only-of-type {\n",
       "        vertical-align: middle;\n",
       "    }\n",
       "\n",
       "    .dataframe tbody tr th {\n",
       "        vertical-align: top;\n",
       "    }\n",
       "\n",
       "    .dataframe thead th {\n",
       "        text-align: right;\n",
       "    }\n",
       "</style>\n",
       "<table border=\"1\" class=\"dataframe\">\n",
       "  <thead>\n",
       "    <tr style=\"text-align: right;\">\n",
       "      <th></th>\n",
       "      <th>tweetid</th>\n",
       "    </tr>\n",
       "    <tr>\n",
       "      <th>tweetcreatedts</th>\n",
       "      <th></th>\n",
       "    </tr>\n",
       "  </thead>\n",
       "  <tbody>\n",
       "    <tr>\n",
       "      <th>2022-02-27 00:07:16</th>\n",
       "      <td>20</td>\n",
       "    </tr>\n",
       "    <tr>\n",
       "      <th>2022-02-27 00:07:17</th>\n",
       "      <td>20</td>\n",
       "    </tr>\n",
       "    <tr>\n",
       "      <th>2022-02-27 00:07:18</th>\n",
       "      <td>18</td>\n",
       "    </tr>\n",
       "    <tr>\n",
       "      <th>2022-02-27 00:07:19</th>\n",
       "      <td>19</td>\n",
       "    </tr>\n",
       "    <tr>\n",
       "      <th>2022-02-27 00:07:20</th>\n",
       "      <td>17</td>\n",
       "    </tr>\n",
       "    <tr>\n",
       "      <th>...</th>\n",
       "      <td>...</td>\n",
       "    </tr>\n",
       "    <tr>\n",
       "      <th>2022-02-28 23:31:17</th>\n",
       "      <td>1</td>\n",
       "    </tr>\n",
       "    <tr>\n",
       "      <th>2022-02-28 23:31:18</th>\n",
       "      <td>5</td>\n",
       "    </tr>\n",
       "    <tr>\n",
       "      <th>2022-02-28 23:31:19</th>\n",
       "      <td>2</td>\n",
       "    </tr>\n",
       "    <tr>\n",
       "      <th>2022-02-28 23:31:20</th>\n",
       "      <td>4</td>\n",
       "    </tr>\n",
       "    <tr>\n",
       "      <th>2022-02-28 23:31:21</th>\n",
       "      <td>3</td>\n",
       "    </tr>\n",
       "  </tbody>\n",
       "</table>\n",
       "<p>38286 rows × 1 columns</p>\n",
       "</div>"
      ],
      "text/plain": [
       "                     tweetid\n",
       "tweetcreatedts              \n",
       "2022-02-27 00:07:16       20\n",
       "2022-02-27 00:07:17       20\n",
       "2022-02-27 00:07:18       18\n",
       "2022-02-27 00:07:19       19\n",
       "2022-02-27 00:07:20       17\n",
       "...                      ...\n",
       "2022-02-28 23:31:17        1\n",
       "2022-02-28 23:31:18        5\n",
       "2022-02-28 23:31:19        2\n",
       "2022-02-28 23:31:20        4\n",
       "2022-02-28 23:31:21        3\n",
       "\n",
       "[38286 rows x 1 columns]"
      ]
     },
     "execution_count": 17,
     "metadata": {},
     "output_type": "execute_result"
    }
   ],
   "source": [
    "february_tweets_by_time = all_english.loc[all_english['tweetcreatedts'] < '2022-03-01 00:00:00']\n",
    "february_tweets_by_time.drop(['userid', 'username', 'acctdesc', 'location', 'followers', 'totaltweets', 'retweetcount', 'text', 'hashtags', 'language', 'coordinates', 'favorite_count'], axis=1, inplace=True)\n",
    "february_tweets_by_time.groupby('tweetcreatedts').count()"
   ]
  },
  {
   "cell_type": "code",
   "execution_count": 18,
   "id": "557cf744",
   "metadata": {},
   "outputs": [
    {
     "name": "stderr",
     "output_type": "stream",
     "text": [
      "/opt/anaconda3/lib/python3.9/site-packages/pandas/core/frame.py:4906: SettingWithCopyWarning: \n",
      "A value is trying to be set on a copy of a slice from a DataFrame\n",
      "\n",
      "See the caveats in the documentation: https://pandas.pydata.org/pandas-docs/stable/user_guide/indexing.html#returning-a-view-versus-a-copy\n",
      "  return super().drop(\n"
     ]
    },
    {
     "data": {
      "text/html": [
       "<div>\n",
       "<style scoped>\n",
       "    .dataframe tbody tr th:only-of-type {\n",
       "        vertical-align: middle;\n",
       "    }\n",
       "\n",
       "    .dataframe tbody tr th {\n",
       "        vertical-align: top;\n",
       "    }\n",
       "\n",
       "    .dataframe thead th {\n",
       "        text-align: right;\n",
       "    }\n",
       "</style>\n",
       "<table border=\"1\" class=\"dataframe\">\n",
       "  <thead>\n",
       "    <tr style=\"text-align: right;\">\n",
       "      <th></th>\n",
       "      <th>tweetid</th>\n",
       "    </tr>\n",
       "    <tr>\n",
       "      <th>tweetcreatedts</th>\n",
       "      <th></th>\n",
       "    </tr>\n",
       "  </thead>\n",
       "  <tbody>\n",
       "    <tr>\n",
       "      <th>2022-03-01 00:00:01</th>\n",
       "      <td>15</td>\n",
       "    </tr>\n",
       "    <tr>\n",
       "      <th>2022-03-01 00:00:02</th>\n",
       "      <td>6</td>\n",
       "    </tr>\n",
       "    <tr>\n",
       "      <th>2022-03-01 00:00:04</th>\n",
       "      <td>7</td>\n",
       "    </tr>\n",
       "    <tr>\n",
       "      <th>2022-03-01 00:00:05</th>\n",
       "      <td>6</td>\n",
       "    </tr>\n",
       "    <tr>\n",
       "      <th>2022-03-01 00:00:06</th>\n",
       "      <td>4</td>\n",
       "    </tr>\n",
       "    <tr>\n",
       "      <th>...</th>\n",
       "      <td>...</td>\n",
       "    </tr>\n",
       "    <tr>\n",
       "      <th>2022-03-02 23:59:52</th>\n",
       "      <td>1</td>\n",
       "    </tr>\n",
       "    <tr>\n",
       "      <th>2022-03-02 23:59:54</th>\n",
       "      <td>3</td>\n",
       "    </tr>\n",
       "    <tr>\n",
       "      <th>2022-03-02 23:59:55</th>\n",
       "      <td>4</td>\n",
       "    </tr>\n",
       "    <tr>\n",
       "      <th>2022-03-02 23:59:56</th>\n",
       "      <td>1</td>\n",
       "    </tr>\n",
       "    <tr>\n",
       "      <th>Putin hates this pic! Make it viral! #putin https://t.co/XqptW306P1</th>\n",
       "      <td>1</td>\n",
       "    </tr>\n",
       "  </tbody>\n",
       "</table>\n",
       "<p>48401 rows × 1 columns</p>\n",
       "</div>"
      ],
      "text/plain": [
       "                                                    tweetid\n",
       "tweetcreatedts                                             \n",
       "2022-03-01 00:00:01                                      15\n",
       "2022-03-01 00:00:02                                       6\n",
       "2022-03-01 00:00:04                                       7\n",
       "2022-03-01 00:00:05                                       6\n",
       "2022-03-01 00:00:06                                       4\n",
       "...                                                     ...\n",
       "2022-03-02 23:59:52                                       1\n",
       "2022-03-02 23:59:54                                       3\n",
       "2022-03-02 23:59:55                                       4\n",
       "2022-03-02 23:59:56                                       1\n",
       "Putin hates this pic! Make it viral! #putin htt...        1\n",
       "\n",
       "[48401 rows x 1 columns]"
      ]
     },
     "execution_count": 18,
     "metadata": {},
     "output_type": "execute_result"
    }
   ],
   "source": [
    "march_tweets_by_time = all_english.loc[all_english['tweetcreatedts'] > '2022-03-01 00:00:00']\n",
    "march_tweets_by_time.drop(['userid', 'username', 'acctdesc', 'location', 'followers', 'totaltweets', 'retweetcount', 'text', 'hashtags', 'language', 'coordinates', 'favorite_count'], axis=1, inplace=True)\n",
    "march_tweets_by_time.groupby('tweetcreatedts').count()"
   ]
  },
  {
   "cell_type": "code",
   "execution_count": 19,
   "id": "77d1f17d",
   "metadata": {},
   "outputs": [],
   "source": [
    "march_tweets_by_time = march_tweets_by_time.drop(7590)"
   ]
  },
  {
   "cell_type": "code",
   "execution_count": 20,
   "id": "5adb5d55",
   "metadata": {},
   "outputs": [
    {
     "data": {
      "text/html": [
       "<div>\n",
       "<style scoped>\n",
       "    .dataframe tbody tr th:only-of-type {\n",
       "        vertical-align: middle;\n",
       "    }\n",
       "\n",
       "    .dataframe tbody tr th {\n",
       "        vertical-align: top;\n",
       "    }\n",
       "\n",
       "    .dataframe thead th {\n",
       "        text-align: right;\n",
       "    }\n",
       "</style>\n",
       "<table border=\"1\" class=\"dataframe\">\n",
       "  <thead>\n",
       "    <tr style=\"text-align: right;\">\n",
       "      <th></th>\n",
       "      <th>tweetid</th>\n",
       "      <th>tweetcreatedts</th>\n",
       "    </tr>\n",
       "  </thead>\n",
       "  <tbody>\n",
       "    <tr>\n",
       "      <th>794713</th>\n",
       "      <td>1.498448e+18</td>\n",
       "      <td>2022-03-01 00:00:01</td>\n",
       "    </tr>\n",
       "    <tr>\n",
       "      <th>794714</th>\n",
       "      <td>1.498448e+18</td>\n",
       "      <td>2022-03-01 00:00:01</td>\n",
       "    </tr>\n",
       "    <tr>\n",
       "      <th>794715</th>\n",
       "      <td>1.498448e+18</td>\n",
       "      <td>2022-03-01 00:00:01</td>\n",
       "    </tr>\n",
       "    <tr>\n",
       "      <th>794716</th>\n",
       "      <td>1.498448e+18</td>\n",
       "      <td>2022-03-01 00:00:01</td>\n",
       "    </tr>\n",
       "    <tr>\n",
       "      <th>794717</th>\n",
       "      <td>1.498448e+18</td>\n",
       "      <td>2022-03-01 00:00:01</td>\n",
       "    </tr>\n",
       "    <tr>\n",
       "      <th>...</th>\n",
       "      <td>...</td>\n",
       "      <td>...</td>\n",
       "    </tr>\n",
       "    <tr>\n",
       "      <th>1700510</th>\n",
       "      <td>1.499173e+18</td>\n",
       "      <td>2022-03-02 23:59:55</td>\n",
       "    </tr>\n",
       "    <tr>\n",
       "      <th>1700511</th>\n",
       "      <td>1.499173e+18</td>\n",
       "      <td>2022-03-02 23:59:55</td>\n",
       "    </tr>\n",
       "    <tr>\n",
       "      <th>1700512</th>\n",
       "      <td>1.499173e+18</td>\n",
       "      <td>2022-03-02 23:59:55</td>\n",
       "    </tr>\n",
       "    <tr>\n",
       "      <th>1700513</th>\n",
       "      <td>1.499173e+18</td>\n",
       "      <td>2022-03-02 23:59:55</td>\n",
       "    </tr>\n",
       "    <tr>\n",
       "      <th>1700514</th>\n",
       "      <td>1.499173e+18</td>\n",
       "      <td>2022-03-02 23:59:56</td>\n",
       "    </tr>\n",
       "  </tbody>\n",
       "</table>\n",
       "<p>157512 rows × 2 columns</p>\n",
       "</div>"
      ],
      "text/plain": [
       "              tweetid       tweetcreatedts\n",
       "794713   1.498448e+18  2022-03-01 00:00:01\n",
       "794714   1.498448e+18  2022-03-01 00:00:01\n",
       "794715   1.498448e+18  2022-03-01 00:00:01\n",
       "794716   1.498448e+18  2022-03-01 00:00:01\n",
       "794717   1.498448e+18  2022-03-01 00:00:01\n",
       "...               ...                  ...\n",
       "1700510  1.499173e+18  2022-03-02 23:59:55\n",
       "1700511  1.499173e+18  2022-03-02 23:59:55\n",
       "1700512  1.499173e+18  2022-03-02 23:59:55\n",
       "1700513  1.499173e+18  2022-03-02 23:59:55\n",
       "1700514  1.499173e+18  2022-03-02 23:59:56\n",
       "\n",
       "[157512 rows x 2 columns]"
      ]
     },
     "execution_count": 20,
     "metadata": {},
     "output_type": "execute_result"
    }
   ],
   "source": [
    "march_tweets_by_time"
   ]
  },
  {
   "cell_type": "code",
   "execution_count": 80,
   "id": "8b7f5663",
   "metadata": {},
   "outputs": [
    {
     "name": "stdout",
     "output_type": "stream",
     "text": [
      "48400\n",
      "48400\n"
     ]
    }
   ],
   "source": [
    "m_c_time = march_tweets_by_time.groupby('tweetcreatedts').count()\n",
    "m_time_list = []\n",
    "m_count_list = []\n",
    "\n",
    "for time in march_tweets_by_time['tweetcreatedts']:\n",
    "        m_time_list.append(time)\n",
    "\n",
    "set_m = set(m_time_list)\n",
    "reset_m_list = list(set_m)\n",
    "print(len(reset_m_list))\n",
    "\n",
    "for tweets in m_c_time['tweetid']:\n",
    "    m_count_list.append(tweets)\n",
    "\n",
    "print(len(m_count_list))\n",
    "\n",
    "#Access slice of March tweets here. Start with m_time_list[20] and m_count_list[20]"
   ]
  },
  {
   "cell_type": "code",
   "execution_count": 84,
   "id": "8654c9f2",
   "metadata": {},
   "outputs": [
    {
     "data": {
      "image/png": "[encoded data removed]",
      "text/plain": [
       "<Figure size 432x288 with 1 Axes>"
      ]
     },
     "metadata": {
      "needs_background": "light"
     },
     "output_type": "display_data"
    }
   ],
   "source": [
    "#Every ten-twelve minutes there are large spikes in the amount of tweets. This probably corresponds to breaking news\n",
    "plt.plot(reset_m_list[:1800], m_count_list[:1800])\n",
    "plt.xlabel('First Thirty Minutes By Second')\n",
    "plt.xticks([])\n",
    "plt.show()"
   ]
  },
  {
   "cell_type": "code",
   "execution_count": 21,
   "id": "6568a8ae",
   "metadata": {
    "collapsed": true
   },
   "outputs": [
    {
     "data": {
      "text/html": [
       "<div>\n",
       "<style scoped>\n",
       "    .dataframe tbody tr th:only-of-type {\n",
       "        vertical-align: middle;\n",
       "    }\n",
       "\n",
       "    .dataframe tbody tr th {\n",
       "        vertical-align: top;\n",
       "    }\n",
       "\n",
       "    .dataframe thead th {\n",
       "        text-align: right;\n",
       "    }\n",
       "</style>\n",
       "<table border=\"1\" class=\"dataframe\">\n",
       "  <thead>\n",
       "    <tr style=\"text-align: right;\">\n",
       "      <th></th>\n",
       "      <th>tweetid</th>\n",
       "      <th>tweetcreatedts</th>\n",
       "    </tr>\n",
       "  </thead>\n",
       "  <tbody>\n",
       "    <tr>\n",
       "      <th>0</th>\n",
       "      <td>1.497725e+18</td>\n",
       "      <td>2022-02-27 00:07:16</td>\n",
       "    </tr>\n",
       "    <tr>\n",
       "      <th>1</th>\n",
       "      <td>1.497725e+18</td>\n",
       "      <td>2022-02-27 00:07:16</td>\n",
       "    </tr>\n",
       "    <tr>\n",
       "      <th>2</th>\n",
       "      <td>1.497725e+18</td>\n",
       "      <td>2022-02-27 00:07:16</td>\n",
       "    </tr>\n",
       "    <tr>\n",
       "      <th>3</th>\n",
       "      <td>1.497725e+18</td>\n",
       "      <td>2022-02-27 00:07:16</td>\n",
       "    </tr>\n",
       "    <tr>\n",
       "      <th>4</th>\n",
       "      <td>1.497725e+18</td>\n",
       "      <td>2022-02-27 00:07:16</td>\n",
       "    </tr>\n",
       "    <tr>\n",
       "      <th>...</th>\n",
       "      <td>...</td>\n",
       "      <td>...</td>\n",
       "    </tr>\n",
       "    <tr>\n",
       "      <th>794695</th>\n",
       "      <td>1.498441e+18</td>\n",
       "      <td>2022-02-28 23:31:20</td>\n",
       "    </tr>\n",
       "    <tr>\n",
       "      <th>794696</th>\n",
       "      <td>1.498441e+18</td>\n",
       "      <td>2022-02-28 23:31:20</td>\n",
       "    </tr>\n",
       "    <tr>\n",
       "      <th>794697</th>\n",
       "      <td>1.498441e+18</td>\n",
       "      <td>2022-02-28 23:31:21</td>\n",
       "    </tr>\n",
       "    <tr>\n",
       "      <th>794698</th>\n",
       "      <td>1.498441e+18</td>\n",
       "      <td>2022-02-28 23:31:21</td>\n",
       "    </tr>\n",
       "    <tr>\n",
       "      <th>794699</th>\n",
       "      <td>1.498441e+18</td>\n",
       "      <td>2022-02-28 23:31:21</td>\n",
       "    </tr>\n",
       "  </tbody>\n",
       "</table>\n",
       "<p>149082 rows × 2 columns</p>\n",
       "</div>"
      ],
      "text/plain": [
       "             tweetid       tweetcreatedts\n",
       "0       1.497725e+18  2022-02-27 00:07:16\n",
       "1       1.497725e+18  2022-02-27 00:07:16\n",
       "2       1.497725e+18  2022-02-27 00:07:16\n",
       "3       1.497725e+18  2022-02-27 00:07:16\n",
       "4       1.497725e+18  2022-02-27 00:07:16\n",
       "...              ...                  ...\n",
       "794695  1.498441e+18  2022-02-28 23:31:20\n",
       "794696  1.498441e+18  2022-02-28 23:31:20\n",
       "794697  1.498441e+18  2022-02-28 23:31:21\n",
       "794698  1.498441e+18  2022-02-28 23:31:21\n",
       "794699  1.498441e+18  2022-02-28 23:31:21\n",
       "\n",
       "[149082 rows x 2 columns]"
      ]
     },
     "execution_count": 21,
     "metadata": {},
     "output_type": "execute_result"
    }
   ],
   "source": [
    "february_tweets_by_time"
   ]
  },
  {
   "cell_type": "code",
   "execution_count": 47,
   "id": "0adc8f9f",
   "metadata": {
    "collapsed": true
   },
   "outputs": [
    {
     "name": "stdout",
     "output_type": "stream",
     "text": [
      "38286\n",
      "38286\n"
     ]
    }
   ],
   "source": [
    "#February Cleaned Time Tweets and lists for plotting purposes\n",
    "f_c_time = february_tweets_by_time.groupby('tweetcreatedts').count()\n",
    "f_time_list = []\n",
    "f_count_list = []\n",
    "\n",
    "for time in february_tweets_by_time['tweetcreatedts']:\n",
    "        f_time_list.append(time)\n",
    "\n",
    "set_f = set(f_time_list)\n",
    "reset_f_list = list(set_f)\n",
    "print(len(reset_f_list))\n",
    "\n",
    "for tweets in f_c_time['tweetid']:\n",
    "    f_count_list.append(tweets)\n",
    "\n",
    "print(len(f_count_list))\n",
    "\n",
    "#Access slice of February tweets here. Start with f_time_list[20] and f_count_list[20]\n"
   ]
  },
  {
   "cell_type": "code",
   "execution_count": 81,
   "id": "ddc153e9",
   "metadata": {},
   "outputs": [
    {
     "data": {
      "image/png": "[encoded data removed]",
      "text/plain": [
       "<Figure size 432x288 with 1 Axes>"
      ]
     },
     "metadata": {
      "needs_background": "light"
     },
     "output_type": "display_data"
    }
   ],
   "source": [
    "#Every ten-twelve minutes there are large spikes in the amount of tweets. This probably corresponds to breaking news\n",
    "plt.plot(reset_f_list[:1800], f_count_list[:1800])\n",
    "plt.xlabel('First Thirty Minutes By Second')\n",
    "plt.xticks([])\n",
    "plt.show()"
   ]
  },
  {
   "cell_type": "code",
   "execution_count": null,
   "id": "945622d7",
   "metadata": {},
   "outputs": [],
   "source": []
  }
 ],
 "metadata": {
  "kernelspec": {
   "display_name": "Python 3 (ipykernel)",
   "language": "python",
   "name": "python3"
  },
  "language_info": {
   "codemirror_mode": {
    "name": "ipython",
    "version": 3
   },
   "file_extension": ".py",
   "mimetype": "text/x-python",
   "name": "python",
   "nbconvert_exporter": "python",
   "pygments_lexer": "ipython3",
   "version": "3.9.7"
  }
 },
 "nbformat": 4,
 "nbformat_minor": 5
}
